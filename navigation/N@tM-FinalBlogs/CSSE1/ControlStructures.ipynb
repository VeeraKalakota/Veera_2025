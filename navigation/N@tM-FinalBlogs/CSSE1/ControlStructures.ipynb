{
 "cells": [
  {
   "cell_type": "markdown",
   "metadata": {},
   "source": [
    "# Control Structures: Iteration, Conditions, Nested Conditions"
   ]
  },
  {
   "cell_type": "markdown",
   "metadata": {},
   "source": [
    "*Control structures determine the flow of execution in a program. They help in decision-making and looping through code.*"
   ]
  },
  {
   "cell_type": "markdown",
   "metadata": {},
   "source": [
    "## Types of Control Structures:"
   ]
  },
  {
   "cell_type": "markdown",
   "metadata": {},
   "source": [
    "### 1. Conditional Statements (if, else, else if): These allow a program to execute different code blocks based on conditions."
   ]
  },
  {
   "cell_type": "code",
   "execution_count": null,
   "metadata": {
    "vscode": {
     "languageId": "javascript"
    }
   },
   "outputs": [],
   "source": [
    "let age = 9;\n",
    "if (age >= 5) {\n",
    "    console.log(\"They have started elementary school\")\n",
    "}"
   ]
  },
  {
   "cell_type": "markdown",
   "metadata": {},
   "source": [
    "**In the platfomer game, we use a lot of conditional statements to check if we should allow the player to end the level, or to check if the player has collected something.**"
   ]
  },
  {
   "cell_type": "markdown",
   "metadata": {},
   "source": [
    "### 2. Nested Conditions: When if statements are placed inside other if statements to handle multiple levels of decision-making."
   ]
  },
  {
   "cell_type": "code",
   "execution_count": null,
   "metadata": {
    "vscode": {
     "languageId": "javascript"
    }
   },
   "outputs": [],
   "source": [
    "let hasPhone = true\n",
    "let isTeen = true\n",
    "\n",
    "if(hasPhone == true) {\n",
    "    if(isTeen == true) {\n",
    "        console.log(\"They go to high school\")\n",
    "    }\n",
    "}"
   ]
  },
  {
   "cell_type": "markdown",
   "metadata": {},
   "source": [
    "**In the platformer game, we use a lot of nested conditions to check for many things in the code, like if the player is colliding with the finish line and they have accomplished their corresponding task (depending on the level).**"
   ]
  },
  {
   "cell_type": "markdown",
   "metadata": {},
   "source": [
    "### 3. Loops (for, while, do-while): These repeat a block of code multiple times until a specified condition is met."
   ]
  },
  {
   "cell_type": "code",
   "execution_count": null,
   "metadata": {
    "vscode": {
     "languageId": "javascript"
    }
   },
   "outputs": [],
   "source": [
    "for(let i=0; i<5; i++)\n",
    "     {\n",
    "    console.log(\"Hello!\")\n",
    "}"
   ]
  },
  {
   "cell_type": "markdown",
   "metadata": {},
   "source": [
    "**In the platformer game, loops are used for the game status, and makes sure that the game is running smoothly**"
   ]
  }
 ],
 "metadata": {
  "kernelspec": {
   "display_name": "Python 3",
   "language": "python",
   "name": "python3"
  },
  "language_info": {
   "codemirror_mode": {
    "name": "ipython",
    "version": 3
   },
   "file_extension": ".py",
   "mimetype": "text/x-python",
   "name": "python",
   "nbconvert_exporter": "python",
   "pygments_lexer": "ipython3",
   "version": "3.11.9"
  }
 },
 "nbformat": 4,
 "nbformat_minor": 2
}
