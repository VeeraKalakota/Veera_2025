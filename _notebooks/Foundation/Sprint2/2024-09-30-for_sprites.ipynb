{
 "cells": [
  {
   "cell_type": "raw",
   "metadata": {
    "vscode": {
     "languageId": "raw"
    }
   },
   "source": [
    "---\n",
    "comments: true\n",
    "layout: post\n",
    "title: JavaScript For Loops and Sprites\n",
    "description: An introduction to JavaScript for loops and working with Sprites.\n",
    "permalink: /csse/javascript/fundamentals/for-loops/\n",
    "categories: [JavaScript Fundamentals]\n",
    "courses: { csse: {week: 7} }\n",
    "type: ccc\n",
    "---"
   ]
  },
  {
   "cell_type": "markdown",
   "metadata": {},
   "source": [
    "## MetaData, Class, For Loops\n",
    "\n",
    "The objective of this article is to enhance your knowledge and understanding of MetaData, Class Definitions, and For-Loops.\n",
    "\n",
    "**MetaData**: In this article, MetaData contains information about the sprite, including its name, source URL, and orientation details such as the number of rows and columns, header size, padding, and jagged rows.\n",
    "\n",
    "**Class**: In this context, the canvas and drawing operations are initialized and stored in a class. These are used to output the sprite sheet image and individual frames within the sprite sheet.\n",
    "  - **constructor**: Initializes the canvas, context, and sprite image.\n",
    "  - **draw() method**: Uses nested **for-loops** to iterate through the sprite sheet and draw each frame independently on the canvas. It calculates the source and destination coordinates for each frame, taking into account the header and padding."
   ]
  },
  {
   "cell_type": "markdown",
   "metadata": {},
   "source": [
    "### Introduction to For Loops\n",
    "\n",
    "For Loops are commonly used to iterate over data structures, including JavaScript Arrays and Objects. \n",
    "\n",
    "Below is an example of a conventional for loop that iterates over an array of names and displays each name in a paragraph (`<p>`) tag within a designated HTML div.\n"
   ]
  },
  {
   "cell_type": "code",
   "execution_count": 5,
   "metadata": {
    "vscode": {
     "languageId": "html"
    }
   },
   "outputs": [
    {
     "data": {
      "text/html": [
       "\n",
       "<!-- HTML output div -->\n",
       "<div id=\"forConventional\"></div>\n",
       "\n",
       "<script>\n",
       "    var names = ['turtle', 'fish', 'frog', 'penguin'];\n",
       "\n",
       "    // Conventional for loop with index used to access elements\n",
       "    for (let i = 0; i < names.length; i++) {\n",
       "\n",
       "        // Create a p tag for each name and add it to the forConventional div\n",
       "        const p = document.createElement('p');\n",
       "        p.innerHTML = names[i];\n",
       "        document.getElementById('forConventional').appendChild(p);\n",
       "\n",
       "    }\n",
       "</script> \n"
      ],
      "text/plain": [
       "<IPython.core.display.HTML object>"
      ]
     },
     "metadata": {},
     "output_type": "display_data"
    }
   ],
   "source": [
    "%%html\n",
    "\n",
    "<!-- HTML output div -->\n",
    "<div id=\"forConventional\"></div>\n",
    "\n",
    "<script>\n",
    "    var names = ['turtle', 'fish', 'frog', 'penguin'];\n",
    "\n",
    "    // Conventional for loop with index used to access elements\n",
    "    for (let i = 0; i < names.length; i++) {\n",
    "\n",
    "        // Create a p tag for each name and add it to the forConventional div\n",
    "        const p = document.createElement('p');\n",
    "        p.innerHTML = names[i];\n",
    "        document.getElementById('forConventional').appendChild(p);\n",
    "\n",
    "    }\n",
    "</script> "
   ]
  },
  {
   "cell_type": "markdown",
   "metadata": {},
   "source": [
    "### ForEach Loop\n",
    "\n",
    "The ForEach loop is another way to iterate over data structures, such as JavaScript Arrays and Objects. Below is an example of a ForEach loop that iterates over an array of coding adventures and displays each adventure in a paragraph (`<p>`) tag within a designated HTML div."
   ]
  },
  {
   "cell_type": "code",
   "execution_count": 7,
   "metadata": {
    "vscode": {
     "languageId": "html"
    }
   },
   "outputs": [
    {
     "data": {
      "text/html": [
       "\n",
       "<!-- HTML output div -->\n",
       "<div id=\"forEach\"></div>\n",
       "\n",
       "<script>\n",
       "    var quest = ['GitHub', 'Terminal', 'Jupyter', 'JavaScript'];\n",
       "\n",
       "    // ForEach loop to iterate over the array\n",
       "    for (let adventure of quest) {\n",
       "\n",
       "        // Create a p tag for each adventure and add it to the forEach div\n",
       "        const p = document.createElement('p');\n",
       "        p.innerHTML = adventure;\n",
       "        document.getElementById('forEach').appendChild(p);\n",
       "\n",
       "    }\n",
       "</script>\n"
      ],
      "text/plain": [
       "<IPython.core.display.HTML object>"
      ]
     },
     "metadata": {},
     "output_type": "display_data"
    }
   ],
   "source": [
    "%%html\n",
    "\n",
    "<!-- HTML output div -->\n",
    "<div id=\"forEach\"></div>\n",
    "\n",
    "<script>\n",
    "    var quest = ['GitHub', 'Terminal', 'Jupyter', 'JavaScript'];\n",
    "\n",
    "    // ForEach loop to iterate over the array\n",
    "    for (let adventure of quest) {\n",
    "\n",
    "        // Create a p tag for each adventure and add it to the forEach div\n",
    "        const p = document.createElement('p');\n",
    "        p.innerHTML = adventure;\n",
    "        document.getElementById('forEach').appendChild(p);\n",
    "\n",
    "    }\n",
    "</script>"
   ]
  },
  {
   "cell_type": "markdown",
   "metadata": {},
   "source": [
    "### 2D array\n",
    "\n",
    "There is a data structure called **arrays in arrays** or **2D arrays**.  The data structure helps organize the data efficiently and access it using **nested loops**. Each row in the 2D array will represent a category (e.g., GitHub, Terminal), and each column will contain an array of questions and answers for that category."
   ]
  },
  {
   "cell_type": "code",
   "execution_count": 40,
   "metadata": {
    "vscode": {
     "languageId": "html"
    }
   },
   "outputs": [
    {
     "data": {
      "text/html": [
       "\n",
       "<div id=\"questionsAnswers\"></div>\n",
       "\n",
       "<script>\n",
       "    // 2D array of questions and answers with titles\n",
       "    var qaArray = [\n",
       "        [\n",
       "            'Player',\n",
       "            [{ question: 'What should I do here?' }]\n",
       "        ],\n",
       "        [\n",
       "            'NPC',\n",
       "            [{ answer: 'You should kill the mobs before damaging the final boss.' }]\n",
       "        ],\n",
       "        [\n",
       "            'Player',\n",
       "            [{ question: 'Could you give me some tips on how to defeat the final boss?' }]\n",
       "        ],\n",
       "        [\n",
       "            'NPC',\n",
       "            [{ answer: 'Sure! Use a long-range weapon, and shoot the indicated weakspots on him.' }]\n",
       "        ],\n",
       "        [\n",
       "            'Player',\n",
       "            [{ question: 'Oh no! My health bar is really low! What should I do?'}]\n",
       "        ],\n",
       "        [\n",
       "            'NPC',\n",
       "            [{ answer: 'Check your inventory for healing items.'}]\n",
       "        ],\n",
       "        \n",
       "        [\n",
       "            'Player',\n",
       "            [\n",
       "                { question: 'Umm.. There are healing items in the game?'}\n",
       "            ]\n",
       "            \n",
       "        ],\n",
       "        [\n",
       "            'NPC',\n",
       "            [\n",
       "                { answer: 'Yes, of course! Around the map, there are potions and berries which you can use to heal yourself'}\n",
       "            ]\n",
       "            \n",
       "        ],\n",
       "        [\n",
       "            'Player',\n",
       "            [\n",
       "                { answer: 'Hmm.. I have none. Ooh! I know! Do you have any on you by chance?'}\n",
       "            ]\n",
       "            \n",
       "        ],\n",
       "        [\n",
       "            'NPC',\n",
       "            [\n",
       "                { answer: 'Let me check... Yes, I do! Here you go!'}\n",
       "            ]\n",
       "            \n",
       "        ],\n",
       "    ];\n",
       "\n",
       "    // Nested for loops to display questions and answers with titles\n",
       "    for (let category of qaArray) {\n",
       "        // Create an h2 tag for each category title\n",
       "        const h2 = document.createElement('h3');\n",
       "        h2.innerHTML = category[0];  // index 0 is the title of the category\n",
       "        document.getElementById('questionsAnswers').appendChild(h2);\n",
       "\n",
       "        // Iterate through each question and answer in the category\n",
       "        for (let qa of category[1]) {  // index 1 is the array of questions and answers\n",
       "            // Create a p tag for each question and answer\n",
       "            const p = document.createElement('p');\n",
       "            if (qa.question) {\n",
       "                p.innerHTML += `<strong>Q:</strong> ${qa.question}<br>`;\n",
       "            }\n",
       "            if (qa.answer) {\n",
       "                p.innerHTML += `<strong>A:</strong> ${qa.answer}`;\n",
       "            }\n",
       "            document.getElementById('questionsAnswers').appendChild(p);\n",
       "        }\n",
       "    }\n",
       "</script>\n"
      ],
      "text/plain": [
       "<IPython.core.display.HTML object>"
      ]
     },
     "metadata": {},
     "output_type": "display_data"
    }
   ],
   "source": [
    "%%html\n",
    "\n",
    "<div id=\"questionsAnswers\"></div>\n",
    "\n",
    "<script>\n",
    "    // 2D array of questions and answers with titles\n",
    "    var qaArray = [\n",
    "        [\n",
    "            'Player',\n",
    "            [{ question: 'What should I do here?' }]\n",
    "        ],\n",
    "        [\n",
    "            'NPC',\n",
    "            [{ answer: 'You should kill the mobs before damaging the final boss.' }]\n",
    "        ],\n",
    "        [\n",
    "            'Player',\n",
    "            [{ question: 'Could you give me some tips on how to defeat the final boss?' }]\n",
    "        ],\n",
    "        [\n",
    "            'NPC',\n",
    "            [{ answer: 'Sure! Use a long-range weapon, and shoot the indicated weakspots on him.' }]\n",
    "        ],\n",
    "        [\n",
    "            'Player',\n",
    "            [{ question: 'Oh no! My health bar is really low! What should I do?'}]\n",
    "        ],\n",
    "        [\n",
    "            'NPC',\n",
    "            [{ answer: 'Check your inventory for healing items.'}]\n",
    "        ],\n",
    "        \n",
    "        [\n",
    "            'Player',\n",
    "            [\n",
    "                { question: 'Umm.. There are healing items in the game?'}\n",
    "            ]\n",
    "            \n",
    "        ],\n",
    "        [\n",
    "            'NPC',\n",
    "            [\n",
    "                { answer: 'Yes, of course! Around the map, there are potions and berries which you can use to heal yourself'}\n",
    "            ]\n",
    "            \n",
    "        ],\n",
    "        [\n",
    "            'Player',\n",
    "            [\n",
    "                { answer: 'Hmm.. I have none. Ooh! I know! Do you have any on you by chance?'}\n",
    "            ]\n",
    "            \n",
    "        ],\n",
    "        [\n",
    "            'NPC',\n",
    "            [\n",
    "                { answer: 'Let me check... Yes, I do! Here you go!'}\n",
    "            ]\n",
    "            \n",
    "        ],\n",
    "    ];\n",
    "\n",
    "    // Nested for loops to display questions and answers with titles\n",
    "    for (let category of qaArray) {\n",
    "        // Create an h2 tag for each category title\n",
    "        const h2 = document.createElement('h3');\n",
    "        h2.innerHTML = category[0];  // index 0 is the title of the category\n",
    "        document.getElementById('questionsAnswers').appendChild(h2);\n",
    "\n",
    "        // Iterate through each question and answer in the category\n",
    "        for (let qa of category[1]) {  // index 1 is the array of questions and answers\n",
    "            // Create a p tag for each question and answer\n",
    "            const p = document.createElement('p');\n",
    "            if (qa.question) {\n",
    "                p.innerHTML += `<strong>Q:</strong> ${qa.question}<br>`;\n",
    "            }\n",
    "            if (qa.answer) {\n",
    "                p.innerHTML += `<strong>A:</strong> ${qa.answer}`;\n",
    "            }\n",
    "            document.getElementById('questionsAnswers').appendChild(p);\n",
    "        }\n",
    "    }\n",
    "</script>\n"
   ]
  },
  {
   "cell_type": "markdown",
   "metadata": {},
   "source": [
    "### Hack #1: Apply Your Own Game Idea\n",
    "\n",
    "Create new code cells to implement some of the sprite interactions or features you have ideated for your game. This exercise is crucial if you plan to have interactions with a Non-Player Character (NPC). \n",
    "\n",
    "This hack is done above in the given code cell\n",
    "\n",
    "**Challenge**: Use the concepts of 2D arrays and nested loops to create and display interactions or features for your game. Think about how you can organize and manage different elements, such as NPC dialog, questions, and receiving answers."
   ]
  },
  {
   "cell_type": "markdown",
   "metadata": {},
   "source": [
    "## Sprite Files\n",
    "\n",
    "### Transition to Sprite Files\n",
    "\n",
    "Now that we have a solid understanding of data structures and loops, we will transition to working with Sprite Files. This section will help you understand how to manage and display sprite images, which are essential for creating animations in your game.\n",
    "\n",
    "### Sprite Files\n",
    "\n",
    "Sprite files are essentially a 2D table of sprite images. They contain 2D columnar sequences of pictures that aid in creating animation.\n",
    "\n",
    "### Display Sprite File\n",
    "\n",
    "The next code block shows a sprite file. This can be helpful in understanding the properties of your sprite. It contains `console.log` output that shows the sprite properties.\n",
    "\n",
    "Here are some terms that you will see in the next code block:\n",
    "- **MetaData**: Data that describes the file\n",
    "  - **name**: A friendly identifier naming the file\n",
    "  - **src**: The location of the file\n",
    "- **drawImage**: A function call that, when used with five parameters, outputs the entirety of the file\n",
    "- **class**: A coding structure that contains a constructor, data, and method (draw) to read and output a file"
   ]
  },
  {
   "cell_type": "code",
   "execution_count": 1,
   "metadata": {
    "vscode": {
     "languageId": "html"
    }
   },
   "outputs": [
    {
     "data": {
      "text/html": [
       "\n",
       "<style>\n",
       "    #gameCanvas {\n",
       "        border: 4px solid rgb(102, 4, 4); /* Red border for the canvas */\n",
       "    }\n",
       "</style>\n",
       "\n",
       "<canvas id=\"gameCanvas\" width=\"521\" height=\"967\"></canvas>\n",
       "\n",
       "<script>\n",
       "    function defineAndDrawImage() {\n",
       "        /**\n",
       "        * Function to define the sprite metadata for Tux the penguin\n",
       "        * @returns {Object} spriteMetaData - The metadata for the Tux sprite\n",
       "        */\n",
       "        function TuxSpriteMetaData() {\n",
       "            // NPC sprite data (Tux the penguin)\n",
       "            const isLocal =  window.location.protocol === 'vscode-webview:' | false;\n",
       "            const baseUrl = isLocal ? '.' : '{{site.baseurl}}';\n",
       "            console.log(baseUrl);\n",
       "            const spriteMetaData = {\n",
       "                name: 'tux',\n",
       "                src: `${baseUrl}/images/tux.png`,\n",
       "            };\n",
       "\n",
       "            return spriteMetaData;\n",
       "        }\n",
       "\n",
       "        /**\n",
       "        * Class to handle the canvas data and drawing of the image file\n",
       "        */\n",
       "        class CanvasDrawImage {\n",
       "            constructor(spriteMetaData) {\n",
       "                this.INIT_POSITION = { x: 0, y: 0 };\n",
       "                this.spriteMetaData = spriteMetaData;\n",
       "                this.canvas = document.getElementById('gameCanvas');\n",
       "                this.ctx = this.canvas.getContext('2d');\n",
       "                this.spriteImage = new Image();\n",
       "                this.spriteImage.src = spriteMetaData.src;\n",
       "                this.spriteImage.onload = () => this.draw(); // Ensure draw is called after image is loaded\n",
       "            }\n",
       "\n",
       "            // Method to draw the sprite on the canvas\n",
       "            draw() {\n",
       "                // This is the size of the sprite file, calculated from the PNG file \n",
       "                const width = this.spriteImage.width; \n",
       "                const height = this.spriteImage.height;\n",
       "\n",
       "                console.log(`Drawing sprite: ${this.spriteMetaData.name}`);\n",
       "                console.log(`Sprite Dimensions: ${width}x${height}`);\n",
       "\n",
       "                this.ctx.drawImage(this.spriteImage, 0, 0, width, height);\n",
       "            }\n",
       "        }\n",
       "\n",
       "        const tux = new CanvasDrawImage(TuxSpriteMetaData());\n",
       "    }\n",
       "\n",
       "    // Call the function to define the class and draw the sprite\n",
       "    defineAndDrawImage();\n",
       "</script>\n"
      ],
      "text/plain": [
       "<IPython.core.display.HTML object>"
      ]
     },
     "metadata": {},
     "output_type": "display_data"
    }
   ],
   "source": [
    "%%html\n",
    "\n",
    "<style>\n",
    "    #gameCanvas {\n",
    "        border: 4px solid rgb(102, 4, 4); /* Red border for the canvas */\n",
    "    }\n",
    "</style>\n",
    "\n",
    "<canvas id=\"gameCanvas\" width=\"521\" height=\"967\"></canvas>\n",
    "\n",
    "<script>\n",
    "    function defineAndDrawImage() {\n",
    "        /**\n",
    "        * Function to define the sprite metadata for Tux the penguin\n",
    "        * @returns {Object} spriteMetaData - The metadata for the Tux sprite\n",
    "        */\n",
    "        function TuxSpriteMetaData() {\n",
    "            // NPC sprite data (Tux the penguin)\n",
    "            const isLocal =  window.location.protocol === 'vscode-webview:' | false;\n",
    "            const baseUrl = isLocal ? '.' : '{{site.baseurl}}';\n",
    "            console.log(baseUrl);\n",
    "            const spriteMetaData = {\n",
    "                name: 'tux',\n",
    "                src: `${baseUrl}/images/tux.png`,\n",
    "            };\n",
    "\n",
    "            return spriteMetaData;\n",
    "        }\n",
    "\n",
    "        /**\n",
    "        * Class to handle the canvas data and drawing of the image file\n",
    "        */\n",
    "        class CanvasDrawImage {\n",
    "            constructor(spriteMetaData) {\n",
    "                this.INIT_POSITION = { x: 0, y: 0 };\n",
    "                this.spriteMetaData = spriteMetaData;\n",
    "                this.canvas = document.getElementById('gameCanvas');\n",
    "                this.ctx = this.canvas.getContext('2d');\n",
    "                this.spriteImage = new Image();\n",
    "                this.spriteImage.src = spriteMetaData.src;\n",
    "                this.spriteImage.onload = () => this.draw(); // Ensure draw is called after image is loaded\n",
    "            }\n",
    "\n",
    "            // Method to draw the sprite on the canvas\n",
    "            draw() {\n",
    "                // This is the size of the sprite file, calculated from the PNG file \n",
    "                const width = this.spriteImage.width; \n",
    "                const height = this.spriteImage.height;\n",
    "\n",
    "                console.log(`Drawing sprite: ${this.spriteMetaData.name}`);\n",
    "                console.log(`Sprite Dimensions: ${width}x${height}`);\n",
    "\n",
    "                this.ctx.drawImage(this.spriteImage, 0, 0, width, height);\n",
    "            }\n",
    "        }\n",
    "\n",
    "        const tux = new CanvasDrawImage(TuxSpriteMetaData());\n",
    "    }\n",
    "\n",
    "    // Call the function to define the class and draw the sprite\n",
    "    defineAndDrawImage();\n",
    "</script>"
   ]
  },
  {
   "cell_type": "markdown",
   "metadata": {},
   "source": [
    "### Display Frames in Sprite File\n",
    "\n",
    "The next code block contains logic to extract frames within the sprite sheet. This is a more practical game enhancement compared to the previous example.\n",
    "\n",
    "Here are terms to describe key elements in the code:\n",
    "\n",
    "- **MetaData**: Contains information about the sprite file, including its name, source URL, and orientation details.\n",
    "  - **orientation**: Describes the layout of the sprite in the PNG file.\n",
    "    - **header**: Size of the area of description above the sprite.\n",
    "    - **pad**: Size of the area between the sprites.\n",
    "    - **jagged**: Indicates that each row can contain a different number of sprites.\n",
    "- **drawImage**: In the 9-property format, it provides the ability to scale the source into the destination.\n",
    "- **class**: Continues using the constructor and draw methods for source and output; adds math to abstract each frame independently.\n",
    "- **for-loops**: Demonstrates nested for loops to process each frame within the 2D sprite sheet."
   ]
  },
  {
   "cell_type": "code",
   "execution_count": 4,
   "metadata": {
    "vscode": {
     "languageId": "html"
    }
   },
   "outputs": [
    {
     "data": {
      "text/html": [
       "<canvas id=\"spriteCanvas\" width=\"288\" height=\"288\"></canvas>\n",
       "<script>\n",
       "// Variables for the spritesheet and sprite dimensions\n",
       "const spritesheetSrc = \"https://i.sstatic.net/AjFP5.png\"; // Path to the spritesheet\n",
       "const spritesheetWidth = 256;\n",
       "const spritesheetHeight = 256;\n",
       "const spriteWidth = 64;\n",
       "const spriteHeight = 64;\n",
       "const totalFrames = 16;\n",
       "const fps = 10;\n",
       "// Select the canvas and get context\n",
       "const canvas = document.getElementById('spriteCanvas');\n",
       "const ctx = canvas.getContext('2d');\n",
       "// Load the spritesheet\n",
       "const spriteSheet = new Image();\n",
       "spriteSheet.src = spritesheetSrc;\n",
       "let currentFrame = 0;\n",
       "// Function to draw the current sprite frame\n",
       "function drawSprite() {\n",
       "    // Calculate the column and row of the current frame\n",
       "    const col = currentFrame % (spritesheetWidth / spriteWidth);  // Total columns\n",
       "    const row = Math.floor(currentFrame / (spritesheetWidth / spriteWidth)); // Total rows\n",
       "    // Clear the canvas\n",
       "    ctx.clearRect(0, 0, canvas.width, canvas.height);\n",
       "    // Draw the current sprite on the canvas\n",
       "    ctx.drawImage(\n",
       "        spriteSheet,\n",
       "        col * spriteWidth,                // Source x in the spritesheet\n",
       "        row * spriteHeight,               // Source y in the spritesheet\n",
       "        spriteWidth,                      // Width of the sprite\n",
       "        spriteHeight,                     // Height of the sprite\n",
       "        0,                                // Destination x on the canvas\n",
       "        0,                                // Destination y on the canvas\n",
       "        spriteWidth,                      // Destination width\n",
       "        spriteHeight                      // Destination height\n",
       "    );\n",
       "    // Move to the next frame, looping back to the first after the last one\n",
       "    currentFrame = (currentFrame + 1) % totalFrames;\n",
       "}\n",
       "// Start the animation once the image is loaded\n",
       "spriteSheet.onload = function() {\n",
       "    setInterval(drawSprite, 1000 / fps); // Change frame based on FPS\n",
       "};\n",
       "</script>\n"
      ],
      "text/plain": [
       "<IPython.core.display.HTML object>"
      ]
     },
     "metadata": {},
     "output_type": "display_data"
    }
   ],
   "source": [
    "%%html\n",
    "<canvas id=\"spriteCanvas\" width=\"288\" height=\"288\"></canvas>\n",
    "<script>\n",
    "// Variables for the spritesheet and sprite dimensions\n",
    "const spritesheetSrc = \"https://i.sstatic.net/AjFP5.png\"; // Path to the spritesheet\n",
    "const spritesheetWidth = 256;\n",
    "const spritesheetHeight = 256;\n",
    "const spriteWidth = 64;\n",
    "const spriteHeight = 64;\n",
    "const totalFrames = 16;\n",
    "const fps = 10;\n",
    "// Select the canvas and get context\n",
    "const canvas = document.getElementById('spriteCanvas');\n",
    "const ctx = canvas.getContext('2d');\n",
    "// Load the spritesheet\n",
    "const spriteSheet = new Image();\n",
    "spriteSheet.src = spritesheetSrc;\n",
    "let currentFrame = 0;\n",
    "// Function to draw the current sprite frame\n",
    "function drawSprite() {\n",
    "    // Calculate the column and row of the current frame\n",
    "    const col = currentFrame % (spritesheetWidth / spriteWidth);  // Total columns\n",
    "    const row = Math.floor(currentFrame / (spritesheetWidth / spriteWidth)); // Total rows\n",
    "    // Clear the canvas\n",
    "    ctx.clearRect(0, 0, canvas.width, canvas.height);\n",
    "    // Draw the current sprite on the canvas\n",
    "    ctx.drawImage(\n",
    "        spriteSheet,\n",
    "        col * spriteWidth,                // Source x in the spritesheet\n",
    "        row * spriteHeight,               // Source y in the spritesheet\n",
    "        spriteWidth,                      // Width of the sprite\n",
    "        spriteHeight,                     // Height of the sprite\n",
    "        0,                                // Destination x on the canvas\n",
    "        0,                                // Destination y on the canvas\n",
    "        spriteWidth,                      // Destination width\n",
    "        spriteHeight                      // Destination height\n",
    "    );\n",
    "    // Move to the next frame, looping back to the first after the last one\n",
    "    currentFrame = (currentFrame + 1) % totalFrames;\n",
    "}\n",
    "// Start the animation once the image is loaded\n",
    "spriteSheet.onload = function() {\n",
    "    setInterval(drawSprite, 1000 / fps); // Change frame based on FPS\n",
    "};\n",
    "</script>"
   ]
  },
  {
   "cell_type": "markdown",
   "metadata": {
    "vscode": {
     "languageId": "html"
    }
   },
   "source": [
    "### Hack #2: Display Individual Sprites\n",
    "\n",
    "Create new code cell(s) to display individual sprites from a sprite sheet. This sprite sheet will potentially be used in your game. (Done Above)\n",
    "\n",
    "**Challenge**: Use the concepts of 2D arrays, nested loops, and sprite metadata to extract and display individual sprites. Think about how you can manage and display different frames or animations for your game characters or objects."
   ]
  }
 ],
 "metadata": {
  "kernelspec": {
   "display_name": "Python 3",
   "language": "python",
   "name": "python3"
  },
  "language_info": {
   "codemirror_mode": {
    "name": "ipython",
    "version": 3
   },
   "file_extension": ".py",
   "mimetype": "text/x-python",
   "name": "python",
   "nbconvert_exporter": "python",
   "pygments_lexer": "ipython3",
   "version": "3.11.9"
  }
 },
 "nbformat": 4,
 "nbformat_minor": 2
}
