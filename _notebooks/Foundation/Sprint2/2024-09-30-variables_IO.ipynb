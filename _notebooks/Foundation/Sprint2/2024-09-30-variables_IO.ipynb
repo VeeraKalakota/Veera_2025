{
 "cells": [
  {
   "cell_type": "raw",
   "metadata": {
    "vscode": {
     "languageId": "raw"
    }
   },
   "source": [
    "---\n",
    "comments: true\n",
    "layout: post\n",
    "title: JavaScript Variables, Input, Output\n",
    "description: An introduction to JavaScript variables, input, and output using the RPG game as an example.\n",
    "permalink: /csse/javascript/fundamentals/variables\n",
    "categories: [JavaScript Fundamentals]\n",
    "courses: { csse: {week: 6} }\n",
    "type: ccc\n",
    "---"
   ]
  },
  {
   "cell_type": "markdown",
   "metadata": {},
   "source": [
    "## Variables\n",
    "\n",
    "Variables are storage containers for data values used within a programming language. Variables can be useful when changing preferences, selecting a background, creating animations, and changing assets in game programming."
   ]
  },
  {
   "cell_type": "markdown",
   "metadata": {},
   "source": [
    "### Variable Inputs\n",
    "\n",
    "To obtain data from user and save into a JavaScript variable requires the use of HTML.  \n",
    "\n",
    "The `<input>` HTML element is used to create interactive controls for web-based forms in order to receive data from the user.\n",
    "\n",
    "- Geeks for Geeks Referece on [input tag](https://www.geeksforgeeks.org/html-input-tag/)\n",
    "- Remember in Jupyter Notebooks and in GitHub Pages we do not use `<head>` and `<body>` tags.  \n",
    "- Additionally, we prefer using SASS for `<style>` in GitHub Pages."
   ]
  },
  {
   "cell_type": "markdown",
   "metadata": {},
   "source": [
    "### Variable Outputs\n",
    "\n",
    "To output a variable in JavaScript it works in combination with HTML as well. To output the variable game_speed or any errors it requires  that outputs to be placed in the Document Object Model (DOM).\n",
    "\n",
    "Additionally, it is common practice in debugging a program to output to console.log.\n",
    "\n",
    "To view DOM and Developer Outputs\n",
    "- Open Help -> Toggle Developer Tools\n",
    "- Go to Console menu, you can clear console to view outputs from console comands in this cell\n",
    "- To see DOM go to Elements tab and use selector and click on output in this window."
   ]
  },
  {
   "cell_type": "code",
   "execution_count": 1,
   "metadata": {
    "vscode": {
     "languageId": "html"
    }
   },
   "outputs": [
    {
     "data": {
      "text/html": [
       "\n",
       "<!-- Input definitions -->\n",
       "<div>\n",
       "  <label for=\"speed\">Adjust Speed (1-5):</label>\n",
       "  <input type=\"number\" id=\"speed\" name=\"speed\" min=\"1\" max=\"5\" value=\"2\">\n",
       "  <button onclick=\"submitSpeed()\">Submit</button>\n",
       "</div>\n",
       "\n",
       "<!-- Document Object Model (DOM) output locations -->\n",
       "<div id=\"output\"></div>\n",
       "<div id=\"error\"></div>\n",
       "\n",
       "<script>\n",
       "  // Function to validate and output the game speed value\n",
       "  function submitSpeed() {\n",
       "    let gameSpeed = document.getElementById('speed').value;\n",
       "    \n",
       "    // Ensure the value is within the allowed range\n",
       "    if (gameSpeed < 1 || gameSpeed > 5) {\n",
       "      // Set/clear output messages when there is an error\n",
       "      document.getElementById('output').innerHTML = \"\";\n",
       "      // Output an error message to the console\n",
       "      console.error(\"Invalid game speed value:\", gameSpeed);\n",
       "      // Output an error message to the HTML page\n",
       "      document.getElementById('error').innerHTML = \"Invalid game speed value: \" + gameSpeed;\n",
       "    } else {\n",
       "      // Set/clear error messages when the value is valid\n",
       "      document.getElementById('error').innerHTML = \"\";\n",
       "      // Output the game speed value to the console\n",
       "      console.log(\"Game speed set to:\", gameSpeed);\n",
       "      // Output the game speed value to the HTML page\n",
       "      document.getElementById('output').innerHTML = \"Game speed set to: \" + gameSpeed;\n",
       "    }\n",
       "  }\n",
       "</script>\n"
      ],
      "text/plain": [
       "<IPython.core.display.HTML object>"
      ]
     },
     "metadata": {},
     "output_type": "display_data"
    }
   ],
   "source": [
    "%%html \n",
    "\n",
    "<!-- Input definitions -->\n",
    "<div>\n",
    "  <label for=\"speed\">Adjust Speed (1-5):</label>\n",
    "  <input type=\"number\" id=\"speed\" name=\"speed\" min=\"1\" max=\"5\" value=\"2\">\n",
    "  <button onclick=\"submitSpeed()\">Submit</button>\n",
    "</div>\n",
    "\n",
    "<!-- Document Object Model (DOM) output locations -->\n",
    "<div id=\"output\"></div>\n",
    "<div id=\"error\"></div>\n",
    "\n",
    "<script>\n",
    "  // Function to validate and output the game speed value\n",
    "  function submitSpeed() {\n",
    "    let gameSpeed = document.getElementById('speed').value;\n",
    "    \n",
    "    // Ensure the value is within the allowed range\n",
    "    if (gameSpeed < 1 || gameSpeed > 5) {\n",
    "      // Set/clear output messages when there is an error\n",
    "      document.getElementById('output').innerHTML = \"\";\n",
    "      // Output an error message to the console\n",
    "      console.error(\"Invalid game speed value:\", gameSpeed);\n",
    "      // Output an error message to the HTML page\n",
    "      document.getElementById('error').innerHTML = \"Invalid game speed value: \" + gameSpeed;\n",
    "    } else {\n",
    "      // Set/clear error messages when the value is valid\n",
    "      document.getElementById('error').innerHTML = \"\";\n",
    "      // Output the game speed value to the console\n",
    "      console.log(\"Game speed set to:\", gameSpeed);\n",
    "      // Output the game speed value to the HTML page\n",
    "      document.getElementById('output').innerHTML = \"Game speed set to: \" + gameSpeed;\n",
    "    }\n",
    "  }\n",
    "</script>"
   ]
  },
  {
   "cell_type": "markdown",
   "metadata": {},
   "source": [
    "### Variable Naming Conventions\n",
    "\n",
    "- **camelCase** In camel case, the first word is lowercase, and the first letter of the remaining words are uppercase: `gameSpeed`\n",
    "- **snake_case** In snake casse, the words in variables are all lowercase and are separated by a underbar: `game_speed`\n",
    "- **PascalCase** In PascalCase, the first letter in the word is capitalized: `GameSpeed`\n",
    "\n",
    "In JavaScript, there will be usage of all three types in the RPG project."
   ]
  },
  {
   "cell_type": "markdown",
   "metadata": {},
   "source": [
    "## Variables containing Variables (Reference Types)\n",
    "\n",
    "There are variables that contain other variables. These are called reference types.\n",
    "\n",
    "- **JSON Objects**: These variables contain key names and associated values (key-value pairs). The key is used for reference and the value contains the data.\n",
    "  - **Key**: This is similar to a variable name. The key describes the value and is followed by a colon.\n",
    "  - **Value**: The value is associated with the key.\n",
    "  - **Sample Definition**: `let gameAttribute = {\"Speed\": 3, \"Avatar\": \"Mario\"}`\n",
    "  - **Sample Reference**: `gameAttribute[\"Speed\"]`\n",
    "  - **Sample Output from Reference**: `3`\n",
    "\n",
    "- **JSON Arrays**: These variables contain a sequence of values.\n",
    "  - **Sample Definition**: `let scoreHistory = [50, 75, 66, 80, 100, 85]`\n",
    "  - **Sample Reference**: `scoreHistory[2]`\n",
    "  - **Sample Output from Reference**: `66`"
   ]
  },
  {
   "cell_type": "code",
   "execution_count": 1,
   "metadata": {
    "vscode": {
     "languageId": "javascript"
    }
   },
   "outputs": [
    {
     "data": {
      "application/javascript": "\n// Reference Type example\n// Open VSCode Help -> Toggle Developer Tools -> Console\n\n// JSON Object\nlet gameAttribute = {\n    \"Speed\": 3,\n    \"Avatar\": \"Mario\"\n};\n\n// Accessing JSON Object values\n// Accessing JSON Object values using dot notation\nconsole.log(\"Speed-Dot:\", gameAttribute.Speed); // Output: Speed: 3\nconsole.log(\"Avatar-Dot:\", gameAttribute.Avatar); // Output: Avatar: Mario\n\n// Accessing JSON Object values using bracket notation\nconsole.log(\"Speed-Bracket:\", gameAttribute[\"Speed\"]); // Output: Speed: 3\nconsole.log(\"Avatar-Bracket:\", gameAttribute[\"Avatar\"]); // Output: Avatar: Mario\n\n// JSON Array\nlet scoreHistory = [50, 75, 66, 80, 100, 85];\n\n// Accessing JSON Array values\nconsole.log(\"Score at index 2:\", scoreHistory[2]); // Output: Score at index 2: 66\n",
      "text/plain": [
       "<IPython.core.display.Javascript object>"
      ]
     },
     "metadata": {},
     "output_type": "display_data"
    }
   ],
   "source": [
    "%%js\n",
    "\n",
    "// Reference Type example\n",
    "// Open VSCode Help -> Toggle Developer Tools -> Console\n",
    "\n",
    "// JSON Object\n",
    "let gameAttribute = {\n",
    "    \"Speed\": 3,\n",
    "    \"Avatar\": \"Mario\"\n",
    "};\n",
    "\n",
    "// Accessing JSON Object values\n",
    "// Accessing JSON Object values using dot notation\n",
    "console.log(\"Speed-Dot:\", gameAttribute.Speed); // Output: Speed: 3\n",
    "console.log(\"Avatar-Dot:\", gameAttribute.Avatar); // Output: Avatar: Mario\n",
    "\n",
    "// Accessing JSON Object values using bracket notation\n",
    "console.log(\"Speed-Bracket:\", gameAttribute[\"Speed\"]); // Output: Speed: 3\n",
    "console.log(\"Avatar-Bracket:\", gameAttribute[\"Avatar\"]); // Output: Avatar: Mario\n",
    "\n",
    "// JSON Array\n",
    "let scoreHistory = [50, 75, 66, 80, 100, 85];\n",
    "\n",
    "// Accessing JSON Array values\n",
    "console.log(\"Score at index 2:\", scoreHistory[2]); // Output: Score at index 2: 66"
   ]
  },
  {
   "cell_type": "markdown",
   "metadata": {},
   "source": [
    "### Variable Naming Convention Hack\n",
    "\n",
    "Search up naming convention for JavaScript.  Conventions are important to easily recognize purpose of definitions.\n",
    "1. Usage of camelCase.  What is standard?\n",
    "Use camelCase by capitalizing the first letter of each word except the first one, with no spaces or underscores (e.g., myVariable, calculateTotal) for naming variables and function names in programming.\n",
    "2. Usage of UPPER_CASE snake_case.  What is standard?\n",
    "Type in UPPER_CASE with all letters uppercase and underscores between words (e.g., MAX_VALUE), and in snake_case with all letters lowercase and underscores between words (e.g., max_value).\n",
    "3. Usage of PascalCase.  What is standard?\n",
    "Use PascalCase by capitalizing the first letter of each word without spaces or underscores (e.g., MyClass, CalculateTotal) for naming classes, types, and other identifiers in programming."
   ]
  },
  {
   "cell_type": "markdown",
   "metadata": {},
   "source": [
    "### RPG Project Hack\n",
    "Identify naming convention and data type used in this code.  Which items would you change according to your research on naming conventions?  What are the data types?  Change names and provide comments to to describe data types and name convention changes.  \n",
    "\n",
    "1. Make a new code cell to make it easy to compare before and after.\n",
    "2. Figure out naming convention for Key-Values items.  Source and share your reference.\n",
    "\n",
    "\n",
    "<canvas id='gameCanvas'></canvas>\n",
    "\n",
    "<!-- <div id=\"questionAnswers\" style=\"padding: 20px; background-color: #f9f9f9: border: 1px solid #ccc; margin-top: 20px;\">\n",
    "</div> -->\n",
    "\n",
    "<script type=\"module\">\n",
    "    import GameControl from '{{site.baseurl}}/assets/js/rpg/GameControl.js';\n",
    "\n",
    "    // Background data\n",
    "    const image_src = \"{{site.baseurl}}/images/forest.png\";\n",
    "    const image_data = {\n",
    "        pixels: {height: 129, width: 330}\n",
    "    };\n",
    "    const image = {src: image_src, data: image_data};\n",
    "\n",
    "    // Turtle sprite data\n",
    "    const turtle_src = \"{{site.baseurl}}/images/pokemon.png\";\n",
    "    const fish_src = \"{{site.baseurl}}/images/trainer.png\";\n",
    "    const turtle_data = {\n",
    "        SCALE_FACTOR: 8,\n",
    "        STEP_FACTOR: 1000,\n",
    "        ANIMATION_RATE: 100,\n",
    "        pixels: {height: 1470, width: 1421},\n",
    "        orientation: {rows: 4, columns: 4 },\n",
    "        down: {row: 0, start: 0, columns: 4 },\n",
    "        left: {row: 1, start: 0, columns: 4 },\n",
    "        right: {row: 2, start: 0, columns: 4 },\n",
    "        up: {row: 3, start: 0, columns: 4 },\n",
    "    };\n",
    "    const fish_data = {\n",
    "        SCALE_FACTOR: 8,\n",
    "        STEP_FACTOR: 1000,\n",
    "        ANIMATION_RATE: 100,\n",
    "        pixels: {height: 256, width: 256},\n",
    "        orientation: {rows: 4, columns: 4 },\n",
    "        down: {row: 0, start: 0, columns: 4 },\n",
    "        left: {row: 1, start: 0, columns: 4 },\n",
    "        right: {row: 2, start: 0, columns: 4 },\n",
    "        up: {row: 3, start: 0, columns: 4 },\n",
    "    };\n",
    "\n",
    "    const sprite = {src: turtle_src, data: turtle_data};\n",
    "    const sprite2 = {src: fish_src, data: fish_data};\n",
    "\n",
    "    // Seaweed sprite data\n",
    "    const seaweed_src = \"{{site.baseurl}}/images/berry.png\";\n",
    "    const seaweed_data = {\n",
    "        SCALE_FACTOR: 10,    \n",
    "        pixels: { height: 160, width: 160 },\n",
    "    };\n",
    "    const seaweed = { src: seaweed_src, data: seaweed_data };\n",
    "\n",
    "\n",
    "    // Assets for game\n",
    "    const assets = { image: image, sprite: sprite, sprite2: sprite2, seaweed: seaweed};\n",
    "     // Fullscreen toggle function\n",
    "    function toggleFullScreen() {\n",
    "        const canvas = document.getElementById('gameCanvas');\n",
    "        if (!document.fullscreenElement) {\n",
    "            if (canvas.requestFullscreen) {\n",
    "                canvas.requestFullscreen();\n",
    "            } else if (canvas.mozRequestFullScreen) { // Firefox\n",
    "                canvas.mozRequestFullScreen();\n",
    "            } else if (canvas.webkitRequestFullscreen) { // Chrome, Safari, and Opera\n",
    "                canvas.webkitRequestFullscreen();\n",
    "            } else if (canvas.msRequestFullscreen) { // IE/Edge\n",
    "                canvas.msRequestFullscreen();\n",
    "            }\n",
    "        } else {\n",
    "            if (document.exitFullscreen) {\n",
    "                document.exitFullscreen();\n",
    "            }\n",
    "        }\n",
    "    }\n",
    "\n",
    "    // Optionally add a button to toggle full-screen mode\n",
    "    const canvas = document.getElementById('gameCanvas');\n",
    "    canvas.addEventListener('click', toggleFullScreen); // Click to enter full-screen\n",
    "    // Start game engine\n",
    "    GameControl.start(assets);\n",
    "</script>\n"
   ]
  },
  {
   "cell_type": "markdown",
   "metadata": {},
   "source": [
    "### Code Block Hack\n",
    "\n",
    "Make a new code block for some game elements that you have in your \"Ideation\"."
   ]
  }
 ],
 "metadata": {
  "kernelspec": {
   "display_name": "Python 3",
   "language": "python",
   "name": "python3"
  },
  "language_info": {
   "codemirror_mode": {
    "name": "ipython",
    "version": 3
   },
   "file_extension": ".py",
   "mimetype": "text/x-python",
   "name": "python",
   "nbconvert_exporter": "python",
   "pygments_lexer": "ipython3",
   "version": "3.11.9"
  }
 },
 "nbformat": 4,
 "nbformat_minor": 2
}
