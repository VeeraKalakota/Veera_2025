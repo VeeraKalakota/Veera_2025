{
 "cells": [
  {
   "cell_type": "markdown",
   "metadata": {},
   "source": [
    "---\n",
    "comments: True\n",
    "layout: post\n",
    "title: Iteration Homework\n",
    "description: An intro to data abstraction\n",
    "permalink: /csse/javascript/fundamentals/iteration/hw\n",
    "categories: [CSSE JavaScript Fundamentals]\n",
    "author: Kian Zhu, Michael Xu and Srinaga Pillutla\n",
    "---"
   ]
  },
  {
   "cell_type": "markdown",
   "metadata": {},
   "source": [
    "## Popcorn Hack 2\n",
    "Create a 3 by 3, 2D list that represents a tictactoe board. Use \"X\" for X, \"O\" for O, and None for empty tiles.\n",
    "\n",
    "Ex. board = [[\"X\",\"None\",\"O\"],\n",
    "       [\"X\",\"O\",\"None\"],\n",
    "       [\"O\",\"None\",\"X\"]]\n",
    "\n",
    "Iterate over the board and identify whether it is player X's or player O's turn.\n",
    "\n",
    "Hint: count the number of moves(non-None). (X goes first)\n",
    "\n",
    "Optional: use console.error() to report an error if the board is illegal (ex. 7 \"X\"s and 2 \"O\"s)\n",
    "\n",
    "### Done in different file (Iterations-P3)"
   ]
  }
 ],
 "metadata": {
  "kernelspec": {
   "display_name": "Python 3",
   "language": "python",
   "name": "python3"
  },
  "language_info": {
   "name": "python",
   "version": "3.11.9"
  }
 },
 "nbformat": 4,
 "nbformat_minor": 2
}
