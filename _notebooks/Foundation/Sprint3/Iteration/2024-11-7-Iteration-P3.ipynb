{
 "cells": [
  {
   "cell_type": "raw",
   "metadata": {
    "vscode": {
     "languageId": "raw"
    }
   },
   "source": [
    "---\n",
    "layout: post\n",
    "title: 3.8.1/3.8.2 While loops/Nested loops\n",
    "author: Srinaga Pillutla \n",
    "description: Basic concept for while loops\n",
    "permalink: /csp/big-idea/p4/3-8-1\n",
    "---"
   ]
  },
  {
   "cell_type": "markdown",
   "metadata": {
    "vscode": {
     "languageId": "javascript"
    }
   },
   "source": [
    "## Basic Overview\n",
    "\n",
    "Condition is always true if the condition is true you have seen it in math have you? 🙃\n",
    "An example is x<8 or X>y or x>8\n",
    "\n",
    "In inside the code you can run any code you want anything you want but it has to be true to statement\n",
    "\n",
    "## What happens inside the code \n",
    "If you run the code it will run for infinate times unless, the statement is false then it will stop and continue to next line or stop oif it is last code \n",
    "\n",
    "an example can be s`een down here \n",
    "The counter which is number set is = 0 and 0<10\n",
    "and then it prints each number by +1 \n",
    "\n",
    "\n"
   ]
  },
  {
   "cell_type": "code",
   "execution_count": null,
   "metadata": {},
   "outputs": [
    {
     "name": "stdout",
     "output_type": "stream",
     "text": [
      "Counter is: 0\n",
      "Counter after incrementing: 1\n",
      "Counter is: 1\n",
      "Counter after incrementing: 2\n",
      "Counter is: 2\n",
      "Counter after incrementing: 3\n",
      "Counter is: 3\n",
      "Counter after incrementing: 4\n",
      "Counter is: 4\n",
      "Counter after incrementing: 5\n",
      "Counter is: 5\n",
      "Counter after incrementing: 6\n",
      "Counter is: 6\n",
      "Counter after incrementing: 7\n",
      "Counter is: 7\n",
      "Counter after incrementing: 8\n",
      "Counter is: 8\n",
      "Counter after incrementing: 9\n",
      "Counter is: 9\n",
      "Counter after incrementing: 10\n",
      "Counter is: 10\n",
      "Counter after incrementing: 11\n"
     ]
    }
   ],
   "source": [
    "counter = 0\n",
    "while counter <= 10:\n",
    "    print(\"Counter is:\", counter)\n",
    "    counter += 1\n",
    "    print(\"Counter after incrementing:\", counter)\n"
   ]
  },
  {
   "cell_type": "code",
   "execution_count": 3,
   "metadata": {
    "vscode": {
     "languageId": "javascript"
    }
   },
   "outputs": [
    {
     "data": {
      "application/javascript": "// Initialize a variable\nlet counter = 0;\n\n// While loop starts\nwhile (counter <= 10) {\n    console.log(\"Counter is: \" + counter);\n    counter++;\n}\n",
      "text/plain": [
       "<IPython.core.display.Javascript object>"
      ]
     },
     "metadata": {},
     "output_type": "display_data"
    }
   ],
   "source": [
    "%%js\n",
    "// Initialize a variable\n",
    "let counter = 0;\n",
    "\n",
    "// While loop starts\n",
    "while (counter <= 10) {\n",
    "    console.log(\"Counter is: \" + counter);\n",
    "    counter++;\n",
    "}"
   ]
  },
  {
   "cell_type": "markdown",
   "metadata": {},
   "source": [
    "# Popcorn Hack 3\n",
    "*For this popcorn hack, you have to find an error in the code to demonstrate the knowlege and correct the mistake in new code cell.*"
   ]
  },
  {
   "cell_type": "code",
   "execution_count": 5,
   "metadata": {
    "vscode": {
     "languageId": "javascript"
    }
   },
   "outputs": [
    {
     "data": {
      "application/javascript": "\n// Initialize the counter\nlet counter = 1;\n\n// Loop while counter is less than 5\nwhile (counter < 5) { \n    console.log(\"Counter is: \" + counter); // Print the current counter value\n    \n    // Increment the counter\n    counter++; \n}\n",
      "text/plain": [
       "<IPython.core.display.Javascript object>"
      ]
     },
     "metadata": {},
     "output_type": "display_data"
    }
   ],
   "source": [
    "%%js\n",
    "\n",
    "// Initialize the counter\n",
    "let counter = 1;\n",
    "\n",
    "// Loop while counter is less than 5\n",
    "while (counter < 5) { \n",
    "    console.log(\"Counter is: \" + counter); // Print the current counter value\n",
    "    \n",
    "    // Increment the counter\n",
    "    counter++; \n",
    "}\n"
   ]
  },
  {
   "cell_type": "markdown",
   "metadata": {
    "vscode": {
     "languageId": "javascript"
    }
   },
   "source": [
    "## Popcorn Hack 4  Create the Outer Loop:\n",
    "Use a while loop that runs while outerFactor is less than or equal to 10. \n",
    "Initialize the Inner Loop Variable:\n",
    "\n",
    "Inside the outer loop, create another variable called innerFactor and set it to 1.\n",
    "Create the Inner Loop:\n",
    "\n",
    "Inside the outer loop, use another while loop that runs while innerFactor is less than or equal to 10.\n",
    "Calculate the Product:\n",
    "\n",
    "Inside the inner loop, calculate the product of outerFactor and innerFactor.\n",
    "Print the Product:\n",
    "\n",
    "Print the product using console.log(), formatting the output neatly.\n",
    "Increment the Inner Loop Variable:\n",
    "\n",
    "After printing the product, increment innerFactor by 1.\n",
    "Move to the Next Line:\n",
    "\n",
    "After the inner loop finishes, print a new line to separate rows.\n",
    "Increment the Outer Loop Variable:\n",
    "\n",
    "Increment outerFactor by 1 to move to the next row in the table."
   ]
  },
  {
   "cell_type": "code",
   "execution_count": 26,
   "metadata": {
    "vscode": {
     "languageId": "html"
    }
   },
   "outputs": [
    {
     "data": {
      "text/html": [
       "<div id=\"multiplicationTable\"></div>\n",
       "\n",
       "<script>\n",
       "    function printMultiplicationTable() {\n",
       "        const tableSize = 10; // 10x10 table for multiplication from 1 to 10\n",
       "        let row = 1; // Initialize row counter\n",
       "        let tableContent = \"<pre>\"; // Using <pre> for preformatted text\n",
       "        \n",
       "        // Outer loop: Runs while row is less than or equal to 10\n",
       "        while (row <= tableSize) {\n",
       "            let col = 1; // Initialize column counter\n",
       "            let rowString = ''; // String to hold the row\n",
       "            \n",
       "            // Inner loop: Runs while col is less than or equal to 10\n",
       "            while (col <= tableSize) {\n",
       "                const product = row * col; // Calculate the product\n",
       "                rowString += product.toString().padStart(4, ' ') + ' '; // Add product to row string\n",
       "                col++; // Increment column counter\n",
       "            }\n",
       "            \n",
       "            tableContent += rowString + \"\\n\"; // Add the row string to the table content\n",
       "            row++; // Increment row counter\n",
       "        }\n",
       "        \n",
       "        tableContent += \"</pre>\"; // Close the <pre> tag\n",
       "        document.getElementById(\"multiplicationTable\").innerHTML = tableContent; // Print to the page\n",
       "    }\n",
       "\n",
       "    // Call the function to print the table\n",
       "    printMultiplicationTable();\n",
       "</script>\n",
       "\n"
      ],
      "text/plain": [
       "<IPython.core.display.HTML object>"
      ]
     },
     "metadata": {},
     "output_type": "display_data"
    }
   ],
   "source": [
    "%%html\n",
    "<div id=\"multiplicationTable\"></div>\n",
    "\n",
    "<script>\n",
    "    function printMultiplicationTable() {\n",
    "        const tableSize = 10; // 10x10 table for multiplication from 1 to 10\n",
    "        let row = 1; // Initialize row counter\n",
    "        let tableContent = \"<pre>\"; // Using <pre> for preformatted text\n",
    "        \n",
    "        // Outer loop: Runs while row is less than or equal to 10\n",
    "        while (row <= tableSize) {\n",
    "            let col = 1; // Initialize column counter\n",
    "            let rowString = ''; // String to hold the row\n",
    "            \n",
    "            // Inner loop: Runs while col is less than or equal to 10\n",
    "            while (col <= tableSize) {\n",
    "                const product = row * col; // Calculate the product\n",
    "                rowString += product.toString().padStart(4, ' ') + ' '; // Add product to row string\n",
    "                col++; // Increment column counter\n",
    "            }\n",
    "            \n",
    "            tableContent += rowString + \"\\n\"; // Add the row string to the table content\n",
    "            row++; // Increment row counter\n",
    "        }\n",
    "        \n",
    "        tableContent += \"</pre>\"; // Close the <pre> tag\n",
    "        document.getElementById(\"multiplicationTable\").innerHTML = tableContent; // Print to the page\n",
    "    }\n",
    "\n",
    "    // Call the function to print the table\n",
    "    printMultiplicationTable();\n",
    "</script>\n",
    "\n"
   ]
  },
  {
   "cell_type": "markdown",
   "metadata": {},
   "source": [
    "### Here is some code for extra credit: (asks questions regarging the multiplication table)"
   ]
  },
  {
   "cell_type": "code",
   "execution_count": 28,
   "metadata": {
    "vscode": {
     "languageId": "html"
    }
   },
   "outputs": [
    {
     "data": {
      "text/html": [
       "<div id=\"multiplicationTable\"></div>\n",
       "<div id=\"questionContainer\"></div>\n",
       "<input type=\"text\" id=\"userAnswer\" placeholder=\"Type your answer here\" />\n",
       "<button onclick=\"checkAnswer()\">Submit Answer</button>\n",
       "<div id=\"responseMessage\"></div>\n",
       "\n",
       "<script>\n",
       "    // Function to print the multiplication table in the notebook\n",
       "    function printMultiplicationTable() {\n",
       "        const tableSize = 10; // 10x10 table for multiplication from 1 to 10\n",
       "        let row = 1; // Initialize row counter\n",
       "        let tableContent = \"<pre>\"; // Using <pre> for preformatted text\n",
       "        \n",
       "        // Outer loop: Runs while row is less than or equal to 10\n",
       "        while (row <= tableSize) {\n",
       "            let col = 1; // Initialize column counter\n",
       "            let rowString = ''; // String to hold the row\n",
       "            \n",
       "            // Inner loop: Runs while col is less than or equal to 10\n",
       "            while (col <= tableSize) {\n",
       "                const product = row * col; // Calculate the product\n",
       "                rowString += product.toString().padStart(4, ' ') + ' '; // Add product to row string\n",
       "                col++; // Increment column counter\n",
       "            }\n",
       "            \n",
       "            tableContent += rowString + \"\\n\"; // Add the row string to the table content\n",
       "            row++; // Increment row counter\n",
       "        }\n",
       "        \n",
       "        tableContent += \"</pre>\"; // Close the <pre> tag\n",
       "        document.getElementById(\"multiplicationTable\").innerHTML = tableContent; // Print to the page\n",
       "    }\n",
       "\n",
       "    // Function to generate a random multiplication question and display it\n",
       "    function askMultiplicationQuestion() {\n",
       "        const num1 = Math.floor(Math.random() * 10) + 1; // Random number between 1 and 10\n",
       "        const num2 = Math.floor(Math.random() * 10) + 1; // Random number between 1 and 10\n",
       "        \n",
       "        // Display the question in the notebook\n",
       "        document.getElementById(\"questionContainer\").innerHTML = `What is ${num1} x ${num2}?`;\n",
       "        \n",
       "        // Store the correct answer in a global variable for checking later\n",
       "        window.correctAnswer = num1 * num2;\n",
       "    }\n",
       "\n",
       "    // Function to check the user's answer\n",
       "    function checkAnswer() {\n",
       "        const userAnswer = parseInt(document.getElementById(\"userAnswer\").value); // Get the user's input\n",
       "        \n",
       "        // Check if the answer is correct\n",
       "        if (userAnswer === window.correctAnswer) {\n",
       "            document.getElementById(\"responseMessage\").innerHTML = \"Congratulations! Your answer is correct.\";\n",
       "            document.getElementById(\"responseMessage\").style.color = \"green\";\n",
       "        } else {\n",
       "            document.getElementById(\"responseMessage\").innerHTML = \"Oops! That's not correct. Try again.\";\n",
       "            document.getElementById(\"responseMessage\").style.color = \"red\";\n",
       "            // Generate a new question\n",
       "            askMultiplicationQuestion();\n",
       "        }\n",
       "    }\n",
       "\n",
       "    // Call the function to print the multiplication table\n",
       "    printMultiplicationTable();\n",
       "    \n",
       "    // Call the function to ask the first multiplication question\n",
       "    askMultiplicationQuestion();\n",
       "</script>\n"
      ],
      "text/plain": [
       "<IPython.core.display.HTML object>"
      ]
     },
     "metadata": {},
     "output_type": "display_data"
    }
   ],
   "source": [
    "%%html\n",
    "<div id=\"multiplicationTable\"></div>\n",
    "<div id=\"questionContainer\"></div>\n",
    "<input type=\"text\" id=\"userAnswer\" placeholder=\"Type your answer here\" />\n",
    "<button onclick=\"checkAnswer()\">Submit Answer</button>\n",
    "<div id=\"responseMessage\"></div>\n",
    "\n",
    "<script>\n",
    "    // Function to print the multiplication table in the notebook\n",
    "    function printMultiplicationTable() {\n",
    "        const tableSize = 10; // 10x10 table for multiplication from 1 to 10\n",
    "        let row = 1; // Initialize row counter\n",
    "        let tableContent = \"<pre>\"; // Using <pre> for preformatted text\n",
    "        \n",
    "        // Outer loop: Runs while row is less than or equal to 10\n",
    "        while (row <= tableSize) {\n",
    "            let col = 1; // Initialize column counter\n",
    "            let rowString = ''; // String to hold the row\n",
    "            \n",
    "            // Inner loop: Runs while col is less than or equal to 10\n",
    "            while (col <= tableSize) {\n",
    "                const product = row * col; // Calculate the product\n",
    "                rowString += product.toString().padStart(4, ' ') + ' '; // Add product to row string\n",
    "                col++; // Increment column counter\n",
    "            }\n",
    "            \n",
    "            tableContent += rowString + \"\\n\"; // Add the row string to the table content\n",
    "            row++; // Increment row counter\n",
    "        }\n",
    "        \n",
    "        tableContent += \"</pre>\"; // Close the <pre> tag\n",
    "        document.getElementById(\"multiplicationTable\").innerHTML = tableContent; // Print to the page\n",
    "    }\n",
    "\n",
    "    // Function to generate a random multiplication question and display it\n",
    "    function askMultiplicationQuestion() {\n",
    "        const num1 = Math.floor(Math.random() * 10) + 1; // Random number between 1 and 10\n",
    "        const num2 = Math.floor(Math.random() * 10) + 1; // Random number between 1 and 10\n",
    "        \n",
    "        // Display the question in the notebook\n",
    "        document.getElementById(\"questionContainer\").innerHTML = `What is ${num1} x ${num2}?`;\n",
    "        \n",
    "        // Store the correct answer in a global variable for checking later\n",
    "        window.correctAnswer = num1 * num2;\n",
    "    }\n",
    "\n",
    "    // Function to check the user's answer\n",
    "    function checkAnswer() {\n",
    "        const userAnswer = parseInt(document.getElementById(\"userAnswer\").value); // Get the user's input\n",
    "        \n",
    "        // Check if the answer is correct\n",
    "        if (userAnswer === window.correctAnswer) {\n",
    "            document.getElementById(\"responseMessage\").innerHTML = \"Congratulations! Your answer is correct.\";\n",
    "            document.getElementById(\"responseMessage\").style.color = \"green\";\n",
    "        } else {\n",
    "            document.getElementById(\"responseMessage\").innerHTML = \"Oops! That's not correct. Try again.\";\n",
    "            document.getElementById(\"responseMessage\").style.color = \"red\";\n",
    "            // Generate a new question\n",
    "            askMultiplicationQuestion();\n",
    "        }\n",
    "    }\n",
    "\n",
    "    // Call the function to print the multiplication table\n",
    "    printMultiplicationTable();\n",
    "    \n",
    "    // Call the function to ask the first multiplication question\n",
    "    askMultiplicationQuestion();\n",
    "</script>\n"
   ]
  }
 ],
 "metadata": {
  "kernelspec": {
   "display_name": "Python 3",
   "language": "python",
   "name": "python3"
  },
  "language_info": {
   "codemirror_mode": {
    "name": "ipython",
    "version": 3
   },
   "file_extension": ".py",
   "mimetype": "text/x-python",
   "name": "python",
   "nbconvert_exporter": "python",
   "pygments_lexer": "ipython3",
   "version": "3.11.9"
  }
 },
 "nbformat": 4,
 "nbformat_minor": 2
}
