{
 "cells": [
  {
   "cell_type": "raw",
   "metadata": {
    "vscode": {
     "languageId": "raw"
    }
   },
   "source": [
    "---\n",
    "comments: True\n",
    "layout: post\n",
    "title: conditionals lesson hacks\n",
    "description: conditionals hacks\n",
    "permalink: /csse/javascript/fundamentals/conditionals/hacks\n",
    "type: ccc\n",
    "---"
   ]
  },
  {
   "cell_type": "markdown",
   "metadata": {},
   "source": [
    "# Popcorn Hack 1: Create a Simple Combat System for Your RPG Game"
   ]
  },
  {
   "cell_type": "markdown",
   "metadata": {},
   "source": [
    "Develop a basic combat system that allows characters to engage in battles with enemies. This will help you practice using functions, conditionals, and basic game mechanics in JavaScript."
   ]
  },
  {
   "cell_type": "markdown",
   "metadata": {},
   "source": [
    "## Popcorn Hack Part 1 - 1\n",
    "\n",
    "Using function `intializeData`\n",
    "\n",
    "1. Add `speed` to the `function intializeData(data = null)`  and give it a default value.\n",
    "2. Add `seed` to the HTML output.\n",
    "3. Add `speed` to JSON data.\n",
    "4. Try make call to `initializeData` with `no argument` and using `data` JSON object as argument when call "
   ]
  },
  {
   "cell_type": "markdown",
   "metadata": {},
   "source": [
    "## Popcorn Hack Part 1 - 2\n",
    "\n",
    "On `handleKeyDown({ keyCode }` switch statement can you add conditions for IJKL keys.\n",
    "\n",
    "1. Add a `case` statement for each of the IJKL keys\n",
    "2. Send key code for IJKL keys to method `gameObject.handleKeyDown` \n",
    "3. Output `gameObject` using console.log"
   ]
  },
  {
   "cell_type": "markdown",
   "metadata": {},
   "source": [
    "# Hack 3"
   ]
  },
  {
   "cell_type": "markdown",
   "metadata": {},
   "source": [
    "Use the ternary operator make an output apear if you meet the level requerments otherwise output a message that telss the player that they are under leveled"
   ]
  }
 ],
 "metadata": {
  "kernelspec": {
   "display_name": "venv",
   "language": "python",
   "name": "python3"
  },
  "language_info": {
   "codemirror_mode": {
    "name": "ipython",
    "version": 3
   },
   "file_extension": ".py",
   "mimetype": "text/x-python",
   "name": "python",
   "nbconvert_exporter": "python",
   "pygments_lexer": "ipython3",
   "version": "3.10.12"
  }
 },
 "nbformat": 4,
 "nbformat_minor": 2
}
