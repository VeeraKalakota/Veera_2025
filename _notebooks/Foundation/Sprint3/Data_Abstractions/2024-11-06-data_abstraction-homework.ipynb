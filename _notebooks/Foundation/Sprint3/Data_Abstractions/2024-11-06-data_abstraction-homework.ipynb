{
 "cells": [
  {
   "cell_type": "raw",
   "metadata": {
    "vscode": {
     "languageId": "raw"
    }
   },
   "source": [
    "---\n",
    "comments: True\n",
    "layout: post\n",
    "title: Data Abstraction Homework\n",
    "description: An intro to data abstraction\n",
    "permalink: /csse/javascript/fundamentals/data-abstraction-homework\n",
    "type: ccc\n",
    "---"
   ]
  },
  {
   "cell_type": "markdown",
   "metadata": {},
   "source": [
    "# JavaScript BankAccount Function\n",
    "\n",
    "Create a `BankAccount` class that returns an object. Inside this function, follow these steps:\n",
    "\n",
    "- **Initialize Balance**:\n",
    "  - Create a `balance` variable and initialize it to `100`, or any balance you choose (representing $100).\n",
    "\n",
    "- **Methods**:\n",
    "  - `deposit(amount)`: Adds a specified amount to the balance.\n",
    "  - `withdraw(amount)`: Deducts a specified amount from the balance.\n",
    "  - `getBalance()`: Returns the current balance.\n",
    "  - `transfer(ammount)`: Transfers a specified amount from one account to another.\n",
    "\n",
    "- **Encapsulation**:\n",
    "  - Only allow access to the `balance` variable through the `deposit`, `withdraw`, and `getBalance` methods.\n",
    "  - Avoid direct access to `balance` from outside the `BankAccount` function.\n",
    "\n",
    "- **Validation**:\n",
    "  -  A deposit can only add positive amounts.\n",
    "  -  A withdrawal can only occur if the amount is available in the balance.\n",
    "\n",
    "- **Testing**:\n",
    "  -  Test the account by creating a new `BankAccount` instance.\n",
    "  -  Call each method to verify functionality.\n",
    "\n",
    "- **Inheritance**:\n",
    "  -  Create accounts that can transfer money to eachother "
   ]
  },
  {
   "cell_type": "code",
   "execution_count": 7,
   "metadata": {
    "vscode": {
     "languageId": "javascript"
    }
   },
   "outputs": [
    {
     "data": {
      "application/javascript": "    class BankAccount {\n\n    }\n",
      "text/plain": [
       "<IPython.core.display.Javascript object>"
      ]
     },
     "metadata": {},
     "output_type": "display_data"
    }
   ],
   "source": [
    "%%js \n",
    "    class BankAccount {\n",
    "\n",
    "    }"
   ]
  }
 ],
 "metadata": {
  "kernelspec": {
   "display_name": "venv",
   "language": "python",
   "name": "python3"
  },
  "language_info": {
   "codemirror_mode": {
    "name": "ipython",
    "version": 3
   },
   "file_extension": ".py",
   "mimetype": "text/x-python",
   "name": "python",
   "nbconvert_exporter": "python",
   "pygments_lexer": "ipython3",
   "version": "3.12.6"
  }
 },
 "nbformat": 4,
 "nbformat_minor": 2
}
