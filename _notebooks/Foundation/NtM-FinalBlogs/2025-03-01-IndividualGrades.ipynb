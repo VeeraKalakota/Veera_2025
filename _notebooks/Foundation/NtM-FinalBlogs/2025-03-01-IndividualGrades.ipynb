{
 "cells": [
  {
   "cell_type": "raw",
   "metadata": {
    "vscode": {
     "languageId": "raw"
    }
   },
   "source": [
    "---\n",
    "comments: true\n",
    "layout: post\n",
    "title: Individual Grade + Retrospective\n",
    "author: Veera Kalakota\n",
    "permalink: /individualgrade\n",
    "category: [ PBL ]\n",
    "type: ccc\n",
    "---"
   ]
  },
  {
   "cell_type": "markdown",
   "metadata": {
    "vscode": {
     "languageId": "plaintext"
    }
   },
   "source": [
    "# Individual Review for PBL Blogs:\n",
    "\n",
    "| Topic        | Points        |            Explanation          \n",
    "|--------------|---------------|----------------------------|\n",
    "| Eight Blogs  | 4.7 (out of 5)       | All of my blogs were completed with plenty of examples and explanations to show my understanding|\n",
    "| Platformer Progress |1.85 (out of 2) | Lot of progress with game; completed trash logic and debugged Cason's and Ethan's levels. |\n",
    "| 5 Things in 24 Weeks |0.92  | Reflected on 5 things I learned in CSSE, ranging from the terminal to github.|\n",
    "| Draw IO + Latest game feature| 0.92 | DrawIo was detailed, with explanations of each function, and latest game feature was minimize.|\n",
    "| N@TM Feedback     | 0.91 | Got lots of feedback from N@tM, and it was really helpful to make specific improvements to the game.|\n",
    "| Total | Out of 10 points | Points Recieved: 9.3|"
   ]
  },
  {
   "cell_type": "markdown",
   "metadata": {},
   "source": [
    "# Retrospective:"
   ]
  },
  {
   "cell_type": "markdown",
   "metadata": {},
   "source": [
    "### 1. Other People's Projects:"
   ]
  },
  {
   "cell_type": "markdown",
   "metadata": {},
   "source": [
    "- One project I found really interesting was Aditya's\n",
    "- His level seemed basic, but he was able to animate a tree getting chopped down by the character\n",
    "    - never learned in class how to animate non-NPC's and non-player's\n",
    "- animations for the game level was really smooth, looked life-like\n",
    "- however, an improvement that I think he should make is have the tree do something, like give you xp if you chop it down"
   ]
  },
  {
   "cell_type": "markdown",
   "metadata": {},
   "source": [
    "![Aditya's Level]({{ \"/images/adtiyalevel.png\" | relative_url }})"
   ]
  },
  {
   "cell_type": "markdown",
   "metadata": {},
   "source": [
    "### 2. Future Plans in Computer Science\n",
    "\n",
    "I plan to take AP Computer Science Principles (CSP) in 11th grade to build my coding and problem-solving skills. I want to learn the basics of JavaScript and Python, as they are widely used in software development. I’m also considering majoring in Computer Science because I enjoy programming and problem-solving. In the future, I hope to gain hands-on experience through internships to apply my knowledge in real-world scenarios and explore different areas of the field."
   ]
  },
  {
   "cell_type": "markdown",
   "metadata": {},
   "source": [
    "### 3. Reflection on Individual Strengths and Weaknesses\n",
    "\n",
    "**Strengths:**\n",
    "\n",
    "- Strong organizational and time management skills, allowing me to plan and execute projects effectively.\n",
    "- Ability to break down complex problems into smaller, manageable steps, making problem-solving more efficient.\n",
    "- Natural leadership qualities, ensuring tasks are delegated effectively and group projects remain structured.\n",
    "- Logical thinking skills that help in structuring code and improving overall problem-solving abilities.\n",
    "\n",
    "**Weaknesses:**\n",
    "\n",
    "- Struggle with debugging complex errors, which can slow down progress.\n",
    "- Need to improve patience and develop better troubleshooting strategies when facing challenges.\n",
    "- Sometimes focus too much on structure, which can make it difficult to adapt to unexpected changes."
   ]
  }
 ],
 "metadata": {
  "language_info": {
   "name": "python"
  }
 },
 "nbformat": 4,
 "nbformat_minor": 2
}
