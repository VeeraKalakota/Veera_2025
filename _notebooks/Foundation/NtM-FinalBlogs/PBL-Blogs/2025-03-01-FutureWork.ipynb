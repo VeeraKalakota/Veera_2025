{
 "cells": [
  {
   "cell_type": "raw",
   "metadata": {
    "vscode": {
     "languageId": "plaintext"
    }
   },
   "source": [
    "---\n",
    "comments: true\n",
    "layout: post\n",
    "title: Night At the Museum Reflection\n",
    "author: Veera Kalakota\n",
    "permalink: /N@tM-FinalBlogs/PBL-Blogs/futurework\n",
    "category: [ PBL ]\n",
    "type: ccc\n",
    "---"
   ]
  },
  {
   "cell_type": "markdown",
   "metadata": {},
   "source": [
    "## N@tM Reflection:\n",
    "\n",
    "\n",
    "\n"
   ]
  },
  {
   "cell_type": "markdown",
   "metadata": {},
   "source": [
    "Based on the comments I recieved at night of the museum, here were some of the key changes that these people recommended\n",
    "\n",
    "- **Smoother Jump:**\n",
    "    - most people commented that they really disliked the jump feature, and wanted a more smooth, natural jump from mario\n",
    "- **Change Mario Sprite:**\n",
    "    - also, some people thought that the Mario Sprite was repetitive, and wanted to see some variety. However, our team decided to make the 'universal sprite' Mario, as it would make it seem like Mario was travelling through different worlds. \n",
    "\n",
    "Overall, these 2 changes were the feedback that I recieved the most. A lot of people really like the trash logic, and how Mario minimizes when you collect the trash and exit the level through the cave. These changes would make the game really nice, but I am unsure on how to code such a jump, since the whole game depends on this jump.\n",
    "\n",
    "Something else that popped up was that when Mario minimizes, he goes behind the cave instead of going in front of it. However, I am unaware of how I can use CSS to style it to look like that. Maybe I might add a fading feature that fades the background to pitch black (Mario enters the cave), and then have it pop up the alert for the transition to the next level. "
   ]
  }
 ],
 "metadata": {
  "language_info": {
   "name": "python"
  }
 },
 "nbformat": 4,
 "nbformat_minor": 2
}
