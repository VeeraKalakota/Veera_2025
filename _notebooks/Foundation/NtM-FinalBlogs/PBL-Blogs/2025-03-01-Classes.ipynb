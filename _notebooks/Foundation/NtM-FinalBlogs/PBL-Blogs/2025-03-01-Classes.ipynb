{
 "cells": [
  {
   "cell_type": "raw",
   "metadata": {
    "vscode": {
     "languageId": "raw"
    }
   },
   "source": [
    "---\n",
    "comments: true\n",
    "layout: post\n",
    "title: Classes\n",
    "author: Veera Kalakota\n",
    "permalink: /N@tM-FinalBlogs/PBL-Blogs/classes\n",
    "category: [ PBL ]\n",
    "type: ccc\n",
    "---"
   ]
  },
  {
   "cell_type": "markdown",
   "metadata": {},
   "source": [
    "# Understanding JavaScript Objects and Methods:"
   ]
  },
  {
   "cell_type": "markdown",
   "metadata": {},
   "source": [
    "## 1. Methods\n",
    "\n",
    "**A method is a function that belongs to an object. Methods define behaviors or actions that an object can perform. These functions can be used to manipulate object properties or perform specific tasks related to the object. By defining methods within an object, you encapsulate functionality and make the object more useful.**"
   ]
  },
  {
   "cell_type": "markdown",
   "metadata": {},
   "source": [
    "### Example From Game Code: "
   ]
  },
  {
   "cell_type": "code",
   "execution_count": null,
   "metadata": {
    "vscode": {
     "languageId": "javascript"
    }
   },
   "outputs": [],
   "source": [
    "updateJump() {\n",
    "    let jumpHeightFactor;\n",
    "    if (GameEnv.difficulty === \"easy\") {\n",
    "        jumpHeightFactor = 0.50;\n",
    "    } else if (GameEnv.difficulty === \"normal\") {\n",
    "        jumpHeightFactor = 0.40;\n",
    "    }\n",
    "    if (GameEnv.currentLevel.tag == \"narwhalboss\") {\n",
    "        jumpHeightFactor = 0.50;\n",
    "    }\n",
    "    this.setY(this.y - (this.bottom * jumpHeightFactor));\n",
    "}"
   ]
  },
  {
   "cell_type": "markdown",
   "metadata": {
    "vscode": {
     "languageId": "javascript"
    }
   },
   "source": [
    "## 2. Instantiating Objects"
   ]
  },
  {
   "cell_type": "markdown",
   "metadata": {},
   "source": [
    "**In JavaScript, you can create (instantiate) objects using object literals, the constructor function, or classes. Object literals provide a quick way to define objects with key-value pairs. Constructor functions and classes allow for the creation of multiple instances of objects with shared behaviors. Each method has its advantages depending on the complexity and reusability of the object.**"
   ]
  },
  {
   "cell_type": "markdown",
   "metadata": {},
   "source": [
    "### Example From Game Code: "
   ]
  },
  {
   "cell_type": "code",
   "execution_count": null,
   "metadata": {
    "vscode": {
     "languageId": "javascript"
    }
   },
   "outputs": [],
   "source": [
    "destroy() {\n",
    "    const index = GameEnv.gameObjects.indexOf(this);\n",
    " // GameEnv.gameObjects.removeChild(this)\n",
    "  // GameEnv.gameObjects.splice(index, 1)\n",
    "    if (index !== -1) {\n",
    "        // Remove the canvas from the DOM\n",
    "        this.canvas.parentNode.removeChild(this.canvas);\n",
    "        GameEnv.gameObjects.splice(index, 1);\n",
    "    }\n",
    "}"
   ]
  },
  {
   "cell_type": "markdown",
   "metadata": {},
   "source": [
    "## 3. Using Objects"
   ]
  },
  {
   "cell_type": "markdown",
   "metadata": {},
   "source": [
    "**Once an object is instantiated, you can access or modify its properties and call its methods. Objects store data in key-value pairs, which can be accessed using dot notation or bracket notation. Modifying properties allows objects to change states dynamically, making them more adaptable for various programming tasks.**"
   ]
  },
  {
   "cell_type": "markdown",
   "metadata": {},
   "source": [
    "### Example From Game Code: "
   ]
  },
  {
   "cell_type": "code",
   "execution_count": null,
   "metadata": {
    "vscode": {
     "languageId": "javascript"
    }
   },
   "outputs": [],
   "source": [
    "if (GameControl.randomEventId === 3 && GameControl.randomEventState === 1) {\n",
    "    this.destroy();\n",
    "    GameControl.endRandomEvent();\n",
    "};"
   ]
  },
  {
   "cell_type": "markdown",
   "metadata": {},
   "source": [
    "## 4. Calling Methods"
   ]
  },
  {
   "cell_type": "markdown",
   "metadata": {},
   "source": [
    "**A method is called using dot notation (object.methodName()). When a method is invoked, it executes the function defined within the object. Methods can interact with the object's properties or perform standalone tasks, making them essential for implementing object behaviors.**"
   ]
  },
  {
   "cell_type": "markdown",
   "metadata": {},
   "source": [
    "### Example From Game Code: "
   ]
  },
  {
   "cell_type": "code",
   "execution_count": null,
   "metadata": {
    "vscode": {
     "languageId": "javascript"
    }
   },
   "outputs": [],
   "source": [
    "GameEnv.customTimeout(() => {\n",
    "    this.x = GameEnv.innerWidth + 1; // handles alert to next level\n",
    "}, 2000);"
   ]
  },
  {
   "cell_type": "markdown",
   "metadata": {},
   "source": [
    "## 5. Parameters in Methods"
   ]
  },
  {
   "cell_type": "markdown",
   "metadata": {},
   "source": [
    "**Methods can accept parameters to perform actions based on input values. Parameters allow functions to work with dynamic values instead of fixed data. This flexibility enables objects to perform calculations, process user input, or manipulate data efficiently.**"
   ]
  },
  {
   "cell_type": "markdown",
   "metadata": {},
   "source": [
    "### Example From Game Code: "
   ]
  },
  {
   "cell_type": "code",
   "execution_count": null,
   "metadata": {
    "vscode": {
     "languageId": "javascript"
    }
   },
   "outputs": [],
   "source": [
    "playerTubeCollision(player, tube) {\n",
    "    // Check if there is a collision between the player and the tube\n",
    "    const playerRect = player.canvas.getBoundingClientRect();\n",
    "    const tubeRect = tube.canvas.getBoundingClientRect();\n",
    "\n",
    "    const collisionDetected = (\n",
    "        playerRect.right > tubeRect.left &&\n",
    "        playerRect.left < tubeRect.right &&\n",
    "        playerRect.bottom > tubeRect.top &&\n",
    "        playerRect.top < tubeRect.bottom\n",
    "    );\n",
    "}"
   ]
  },
  {
   "cell_type": "markdown",
   "metadata": {},
   "source": [
    "## 6. Return Values"
   ]
  },
  {
   "cell_type": "markdown",
   "metadata": {},
   "source": [
    "**A method can return a value that can be used later in the program. The returned value allows for further processing or storing results in variables. By using return statements, methods can provide meaningful outputs, making them integral to object-oriented programming.**"
   ]
  },
  {
   "cell_type": "markdown",
   "metadata": {},
   "source": [
    "### Example From Game Code: "
   ]
  },
  {
   "cell_type": "code",
   "execution_count": null,
   "metadata": {
    "vscode": {
     "languageId": "javascript"
    }
   },
   "outputs": [],
   "source": [
    "trashCount = [];"
   ]
  },
  {
   "cell_type": "code",
   "execution_count": null,
   "metadata": {
    "vscode": {
     "languageId": "javascript"
    }
   },
   "outputs": [],
   "source": [
    "if(GameEnv.trashCount.length < 4) {\n",
    "    this.setX(0)\n",
    "    this.setY(500)\n",
    "    this.state.animation = 'idle'\n",
    "    break\n",
    "} "
   ]
  }
 ],
 "metadata": {
  "language_info": {
   "name": "python"
  }
 },
 "nbformat": 4,
 "nbformat_minor": 2
}
