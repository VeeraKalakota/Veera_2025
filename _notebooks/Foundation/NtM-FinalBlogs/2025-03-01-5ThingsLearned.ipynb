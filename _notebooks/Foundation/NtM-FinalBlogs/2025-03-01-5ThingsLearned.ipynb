{
 "cells": [
  {
   "cell_type": "raw",
   "metadata": {
    "vscode": {
     "languageId": "raw"
    }
   },
   "source": [
    "---\n",
    "comments: true\n",
    "layout: post\n",
    "title: 5 Things I Learned\n",
    "description: 5 things that I learned from my time in CSSE\n",
    "author: Veera Kalakota\n",
    "categories: [ CSSE1 ]\n",
    "permalink: /fivethingslearned/\n",
    "type: ccc\n",
    "---"
   ]
  },
  {
   "cell_type": "markdown",
   "metadata": {},
   "source": [
    "# 5 Things I Learned:"
   ]
  },
  {
   "cell_type": "markdown",
   "metadata": {},
   "source": [
    "### **1. The Importance of Consistent GitHub Workflow**  \n",
    "\n",
    "#### Understanding:  \n",
    "Throughout the 24 weeks, you consistently used GitHub to manage your codebase, track progress, and collaborate. GitHub analytics provided insights into your contributions, commits, and project activity, helping you understand version control best practices.  \n",
    "\n",
    "#### Why it Matters:  \n",
    "- Helps in maintaining a structured workflow with commits and pull requests.  \n",
    "- Allows better collaboration with teammates.  \n",
    "- GitHub analytics helps track progress, showing where improvements can be made.  "
   ]
  },
  {
   "cell_type": "markdown",
   "metadata": {},
   "source": [
    "### **2. Mastering Time Management with Burn Down Charts**  \n",
    "\n",
    "#### Understanding:  \n",
    "Burn Down Charts helped visualize the progress of tasks over time, ensuring that you stayed on track with deadlines. These charts provided a clear representation of completed and remaining work.  \n",
    "\n",
    "#### Why it Matters:  \n",
    "- Encourages accountability by tracking task completion rates.  \n",
    "- Helps in identifying bottlenecks in the development process.  \n",
    "- Provides a way to measure efficiency and improve sprint planning.  "
   ]
  },
  {
   "cell_type": "markdown",
   "metadata": {},
   "source": [
    "### **3. The Art of Live Review Presentations**  \n",
    "\n",
    "#### Understanding:  \n",
    "You participated in live reviews where you presented your progress, challenges, and solutions. These sessions improved your ability to explain technical concepts clearly and confidently.  \n",
    "\n",
    "#### Why it Matters:  \n",
    "- Strengthens public speaking and communication skills.  \n",
    "- Helps in receiving and applying constructive feedback.  \n",
    "- Prepares you for real-world presentations in professional settings.  "
   ]
  },
  {
   "cell_type": "markdown",
   "metadata": {},
   "source": [
    "### **4. Overcoming Issues and Debugging Effectively**  \n",
    "\n",
    "#### Understanding:  \n",
    "Over the course of the project, you faced issues related to code functionality, deployment, and Jekyll setup. Learning how to debug efficiently and resolve problems was a crucial skill.  \n",
    "\n",
    "#### Why it Matters:  \n",
    "- Strengthens problem-solving abilities.  \n",
    "- Teaches the importance of debugging tools and error tracking.  \n",
    "- Reinforces patience and perseverance in software development.  \n"
   ]
  },
  {
   "cell_type": "markdown",
   "metadata": {},
   "source": [
    "### **5. Organizing and Structuring a Blog for Documentation**  \n",
    "\n",
    "#### Understanding:  \n",
    "Documenting your work through blogs allowed you to track your learning journey, reflect on challenges, and share insights. Organizing eight blogs and ensuring clarity in your writing improved your ability to summarize complex topics.  \n",
    "\n",
    "#### Why it Matters:  \n",
    "- Enhances written communication and technical writing skills.  \n",
    "- Serves as a portfolio to showcase your learning and progress.  \n",
    "- Helps others who may encounter similar challenges.  "
   ]
  }
 ],
 "metadata": {
  "language_info": {
   "name": "python"
  }
 },
 "nbformat": 4,
 "nbformat_minor": 2
}
