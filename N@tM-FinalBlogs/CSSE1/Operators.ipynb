{
 "cells": [
  {
   "cell_type": "markdown",
   "metadata": {},
   "source": [
    "# Operators: String Operations, Mathematical Operations, Boolean Expressions"
   ]
  },
  {
   "cell_type": "markdown",
   "metadata": {},
   "source": [
    "*Operators perform computations or manipulations on variables and values.*"
   ]
  },
  {
   "cell_type": "markdown",
   "metadata": {},
   "source": [
    "## Types of Operators"
   ]
  },
  {
   "cell_type": "markdown",
   "metadata": {},
   "source": [
    "### 1. String Operations (+, .toUpperCase(), .concat()): Used to manipulate text values."
   ]
  },
  {
   "cell_type": "code",
   "execution_count": null,
   "metadata": {
    "vscode": {
     "languageId": "javascript"
    }
   },
   "outputs": [],
   "source": [
    "let str = 'hello'\n",
    "console.log(str.toLowerCase())\n",
    "console.log(str.toUpperCase())\n",
    "console.log(str+' world!')"
   ]
  },
  {
   "cell_type": "markdown",
   "metadata": {},
   "source": [
    "**In the platformer game, string operators are used to store data for next levels, and for checks in each level (in the console) to see if the machine is running through certain parts of the code.**"
   ]
  },
  {
   "cell_type": "markdown",
   "metadata": {},
   "source": [
    "### 2. Mathematical Operations (+, -, *, /, %): Used to perform arithmetic calculations."
   ]
  },
  {
   "cell_type": "code",
   "execution_count": null,
   "metadata": {
    "vscode": {
     "languageId": "javascript"
    }
   },
   "outputs": [],
   "source": [
    "let a = 5\n",
    "let b = 7\n",
    "console.log(a+b)\n",
    "console.log(a*b)\n",
    "console.log(a-b)\n",
    "console.log(a/b)"
   ]
  },
  {
   "cell_type": "markdown",
   "metadata": {},
   "source": [
    "**In the game, we use mathematical operators to count for the number of coins, and to keep track of the time. We also use it for the jump and gravity features of Mario.**"
   ]
  },
  {
   "cell_type": "markdown",
   "metadata": {},
   "source": [
    "### 3. Boolean Expressions (>, <, ===, !==): Compare values and return true or false."
   ]
  },
  {
   "cell_type": "code",
   "execution_count": null,
   "metadata": {
    "vscode": {
     "languageId": "javascript"
    }
   },
   "outputs": [],
   "source": [
    "let a = 5\n",
    "let b = 7\n",
    "\n",
    "if(a>b) {\n",
    "    console.log(\"a is greater than b\")\n",
    "}"
   ]
  },
  {
   "cell_type": "markdown",
   "metadata": {},
   "source": [
    "**These boolean expressions in the game are commonly used with conditionals, and are used to check against static values to end the game.**"
   ]
  }
 ],
 "metadata": {
  "language_info": {
   "name": "python"
  }
 },
 "nbformat": 4,
 "nbformat_minor": 2
}
